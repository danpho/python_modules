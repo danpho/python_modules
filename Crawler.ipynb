{
  "nbformat": 4,
  "nbformat_minor": 0,
  "metadata": {
    "kernelspec": {
      "display_name": "Python 3",
      "language": "python",
      "name": "python3"
    },
    "language_info": {
      "codemirror_mode": {
        "name": "ipython",
        "version": 3
      },
      "file_extension": ".py",
      "mimetype": "text/x-python",
      "name": "python",
      "nbconvert_exporter": "python",
      "pygments_lexer": "ipython3",
      "version": "3.6.5"
    },
    "colab": {
      "name": "REST API and data pulling.ipynb",
      "provenance": []
    }
  },
  "cells": [
    {
      "cell_type": "markdown",
      "metadata": {
        "id": "cvtjwf_bLzYb"
      },
      "source": [
        "## A lot of websites support REST API to query data, and in your daily job you will use it very often. RESTful API = REpresentational State Transfer. \n",
        "\n",
        "Key points of REST API: \n",
        "\n",
        "1. Client-Server\n",
        "2. Stateless\n",
        "3. Cacheable\n",
        "4. Uniform-interface\n",
        "5. Layered System\n",
        "6. Code on demond\n",
        "\n",
        "## REST API is a preferred way to pull data from websites using crawlers\n",
        "1. You can get structured data directly, and easily parse them into dataframe\n",
        "2. It's much more stable than a web crawler, website can update front page frequently but will always keep the API query the same syntax/format, or have compatibility support -- a lot of apps depend on the reliability of their API service\n",
        "3. It's more cost effective to both you and the web server\n",
        "4. It allows to query some data unseen from web page e.g. stock price at tick level"
      ]
    },
    {
      "cell_type": "markdown",
      "metadata": {
        "id": "5B7GUQrPLzYc"
      },
      "source": [
        "## REST API consist of: a base URL + standard HTTP method (Get, Put, Post, Delete) + a media type (mostly JSON or XML)"
      ]
    },
    {
      "cell_type": "markdown",
      "metadata": {
        "id": "swcyTjINLzYc"
      },
      "source": [
        "In python, we can use \n",
        "1. requests to send/receive HTTP request from client side\n",
        "2. json to serialize and deserialize data \n",
        "3. flask to build up web server to response to HTTP request\n",
        "\n",
        "Let's dive in with an example from Yelp.\n",
        "\n",
        "Go to https://www.yelp.com/developers/documentation/v3/business_search (you may need to sign up Yelp developer's account to get access to these documentations)\n",
        "Read through this page, and understand\n",
        "1. What HTTP method should be used?\n",
        "2. What is the basic endpoint?\n",
        "3. What is the format of the response body?\n",
        "4. Can you figure out how to search for restaurants within 10 miles of zip code 94583?\n",
        "\n",
        "Now go to https://www.yelp.com/developers/v3/manage_app  to add an app to your developer's account, get your client ID and app key, which will be used later. The default daily request limit is 5000."
      ]
    },
    {
      "cell_type": "code",
      "metadata": {
        "id": "IvMdm1qXLzYd",
        "colab": {
          "base_uri": "https://localhost:8080/"
        },
        "outputId": "33fac9a5-da32-4ed0-d67e-005a43f6e955"
      },
      "source": [
        "#pip install requests if you don't already have it\n",
        "import requests\n",
        "#test if your request is working fine, you should be getting a status code of 200 from below command\n",
        "response = requests.get('https://api.github.com')\n",
        "print(response)"
      ],
      "execution_count": 1,
      "outputs": [
        {
          "output_type": "stream",
          "name": "stdout",
          "text": [
            "<Response [200]>\n"
          ]
        }
      ]
    },
    {
      "cell_type": "markdown",
      "metadata": {
        "id": "q5PxKng9LzYh"
      },
      "source": [
        "Some common HTTP response code:\n",
        "200: Everything OK\n",
        "400: Bad request, check your request syntax\n",
        "401/403: Unathorized, you may need permission\n",
        "404: Page not found, you know it\n",
        "405: Bad method\n",
        "500: Internal Server Error, check your server code\n",
        "\n",
        "A HTTP request example:\n",
        "\n",
        "POST /cgi-bin/process.cgi HTTP/1.1\n",
        "User-Agent: Mozilla/4.0 (compatible; MSIE5.01; Windows NT)\n",
        "Host: www.tutorialspoint.com\n",
        "Content-Type: application/x-www-form-urlencoded\n",
        "Content-Length: length\n",
        "Accept-Language: en-us\n",
        "Accept-Encoding: gzip, deflate\n",
        "Connection: Keep-Alive\n",
        "\n",
        "licenseID=string&content=string&/paramsXML=string"
      ]
    },
    {
      "cell_type": "code",
      "metadata": {
        "id": "0bnFbLX-LzYi"
      },
      "source": [
        "#let's try to send GET request to Yelp, replace the API_Key with yours\n",
        "API_Key = 'aAJnW9n-0Pqb_as_v2pRKM4hMsLBgE5m4abHIRJRRPKDWGVJ12ZLKaM-2zm1CBn64klKd0gaVUuSI18f4dGj5VBWpdzSQXHmC56mjTMhE8-st3s3PYhtxWMKSP1yXnYx'\n",
        "url = 'https://api.yelp.com/v3/businesses/search'\n",
        "params = {\n",
        "    'term':'Restaurants',\n",
        "    'location':'11357',\n",
        "    'radius':'16000',\n",
        "    'limit':'4'\n",
        "}\n",
        "headers = {\n",
        "    'Authorization': 'Bearer %s' % API_Key,\n",
        "    'Content-Type':'application/json'\n",
        "}\n",
        "#the browser needs full url to work, requests helps you to automatically format those urls\n",
        "#e.g. https://www.yelp.com/search?find_desc=Restaurants&find_loc=San+Ramon%2C+CA&ns=1\n",
        "response = requests.get(url, params=params, headers=headers, json=None) \n",
        "#GET request usually don't send data to server, so json=None. If you need to POST data, you can use json={'key':'value'}"
      ],
      "execution_count": 3,
      "outputs": []
    },
    {
      "cell_type": "code",
      "metadata": {
        "id": "ax49UBI-LzYl",
        "colab": {
          "base_uri": "https://localhost:8080/"
        },
        "outputId": "696da62d-8789-4aa2-870d-5f631e558c8f"
      },
      "source": [
        "print(response)"
      ],
      "execution_count": 4,
      "outputs": [
        {
          "output_type": "stream",
          "name": "stdout",
          "text": [
            "<Response [200]>\n"
          ]
        }
      ]
    },
    {
      "cell_type": "code",
      "metadata": {
        "id": "eMsku04ALzYo",
        "colab": {
          "base_uri": "https://localhost:8080/"
        },
        "outputId": "43d19a51-6c0f-4bf0-d021-86126690e7b9"
      },
      "source": [
        "# to view the contents of the response\n",
        "response.content"
      ],
      "execution_count": 5,
      "outputs": [
        {
          "output_type": "execute_result",
          "data": {
            "text/plain": [
              "b'{\"businesses\": [{\"id\": \"cegA4jf16vEt7NCQ7cpu2w\", \"alias\": \"kind-fresh-meadows\", \"name\": \"Kin\\'d\", \"image_url\": \"https://s3-media2.fl.yelpcdn.com/bphoto/75GptlVgTc9HqZoyHdu8NQ/o.jpg\", \"is_closed\": false, \"url\": \"https://www.yelp.com/biz/kind-fresh-meadows?adjust_creative=Eoyi_YSkAfM5aeQla0x-3A&utm_campaign=yelp_api_v3&utm_medium=api_v3_business_search&utm_source=Eoyi_YSkAfM5aeQla0x-3A\", \"review_count\": 924, \"categories\": [{\"alias\": \"thai\", \"title\": \"Thai\"}], \"rating\": 4.5, \"coordinates\": {\"latitude\": 40.73031, \"longitude\": -73.77814}, \"transactions\": [\"pickup\", \"delivery\"], \"price\": \"$$\", \"location\": {\"address1\": \"192-03 Union Tpke\", \"address2\": \"\", \"address3\": null, \"city\": \"Fresh Meadows\", \"zip_code\": \"11366\", \"country\": \"US\", \"state\": \"NY\", \"display_address\": [\"192-03 Union Tpke\", \"Fresh Meadows, NY 11366\"]}, \"phone\": \"+17184680888\", \"display_phone\": \"(718) 468-0888\", \"distance\": 6933.974525491427}, {\"id\": \"xR2Yeb_Nh0MOAiUIaqaVOg\", \"alias\": \"tavern-157-flushing-2\", \"name\": \"Tavern 157\", \"image_url\": \"https://s3-media1.fl.yelpcdn.com/bphoto/DzgKsJaswv3HgvcZcOImOg/o.jpg\", \"is_closed\": false, \"url\": \"https://www.yelp.com/biz/tavern-157-flushing-2?adjust_creative=Eoyi_YSkAfM5aeQla0x-3A&utm_campaign=yelp_api_v3&utm_medium=api_v3_business_search&utm_source=Eoyi_YSkAfM5aeQla0x-3A\", \"review_count\": 466, \"categories\": [{\"alias\": \"wine_bars\", \"title\": \"Wine Bars\"}, {\"alias\": \"asianfusion\", \"title\": \"Asian Fusion\"}, {\"alias\": \"tapasmallplates\", \"title\": \"Tapas/Small Plates\"}], \"rating\": 4.5, \"coordinates\": {\"latitude\": 40.7634836392041, \"longitude\": -73.807817278102}, \"transactions\": [\"restaurant_reservation\", \"pickup\", \"delivery\"], \"price\": \"$$\", \"location\": {\"address1\": \"157-12 Northern Blvd\", \"address2\": \"\", \"address3\": \"\", \"city\": \"Flushing\", \"zip_code\": \"11354\", \"country\": \"US\", \"state\": \"NY\", \"display_address\": [\"157-12 Northern Blvd\", \"Flushing, NY 11354\"]}, \"phone\": \"+17188867488\", \"display_phone\": \"(718) 886-7488\", \"distance\": 2677.000862929867}, {\"id\": \"03RL_VcRGXuICl2R6Luu_Q\", \"alias\": \"the-waterfront-nyc-bronx\", \"name\": \"The Waterfront NYC\", \"image_url\": \"https://s3-media2.fl.yelpcdn.com/bphoto/zV8E_UsFpcPXpxetIvlfcQ/o.jpg\", \"is_closed\": false, \"url\": \"https://www.yelp.com/biz/the-waterfront-nyc-bronx?adjust_creative=Eoyi_YSkAfM5aeQla0x-3A&utm_campaign=yelp_api_v3&utm_medium=api_v3_business_search&utm_source=Eoyi_YSkAfM5aeQla0x-3A\", \"review_count\": 37, \"categories\": [{\"alias\": \"newamerican\", \"title\": \"American (New)\"}, {\"alias\": \"seafood\", \"title\": \"Seafood\"}, {\"alias\": \"breakfast_brunch\", \"title\": \"Breakfast & Brunch\"}], \"rating\": 4.0, \"coordinates\": {\"latitude\": 40.8112556, \"longitude\": -73.8352813}, \"transactions\": [\"delivery\"], \"location\": {\"address1\": \"500 Hutchinson River Pkwy\", \"address2\": \"\", \"address3\": \"Trump Golf Links\", \"city\": \"Bronx\", \"zip_code\": \"10465\", \"country\": \"US\", \"state\": \"NY\", \"display_address\": [\"500 Hutchinson River Pkwy\", \"Trump Golf Links\", \"Bronx, NY 10465\"]}, \"phone\": \"+17184141577\", \"display_phone\": \"(718) 414-1577\", \"distance\": 3232.9464557149495}, {\"id\": \"2f-qNpdVJl2h9L6SHYuICA\", \"alias\": \"havana-cafe-bronx\", \"name\": \"Havana Cafe\", \"image_url\": \"https://s3-media2.fl.yelpcdn.com/bphoto/6oza5fJjaE9i_-4xjlyyUQ/o.jpg\", \"is_closed\": false, \"url\": \"https://www.yelp.com/biz/havana-cafe-bronx?adjust_creative=Eoyi_YSkAfM5aeQla0x-3A&utm_campaign=yelp_api_v3&utm_medium=api_v3_business_search&utm_source=Eoyi_YSkAfM5aeQla0x-3A\", \"review_count\": 888, \"categories\": [{\"alias\": \"cuban\", \"title\": \"Cuban\"}, {\"alias\": \"latin\", \"title\": \"Latin American\"}], \"rating\": 4.0, \"coordinates\": {\"latitude\": 40.8379, \"longitude\": -73.83437}, \"transactions\": [\"pickup\", \"delivery\"], \"price\": \"$$\", \"location\": {\"address1\": \"3151 E Tremont Ave\", \"address2\": \"\", \"address3\": \"\", \"city\": \"Bronx\", \"zip_code\": \"10461\", \"country\": \"US\", \"state\": \"NY\", \"display_address\": [\"3151 E Tremont Ave\", \"Bronx, NY 10461\"]}, \"phone\": \"+17185181800\", \"display_phone\": \"(718) 518-1800\", \"distance\": 5934.899328565554}], \"total\": 7800, \"region\": {\"center\": {\"longitude\": -73.81113052368164, \"latitude\": 40.78742741252944}}}'"
            ]
          },
          "metadata": {},
          "execution_count": 5
        }
      ]
    },
    {
      "cell_type": "code",
      "metadata": {
        "id": "1iZ_vqj5LzYr",
        "colab": {
          "base_uri": "https://localhost:8080/"
        },
        "outputId": "0d839a4c-f4d3-447b-d1f7-5f37c007199f"
      },
      "source": [
        "#other properties and methods of response object, a full list of available properties and methods can be found here\n",
        "#https://www.w3schools.com/python/ref_requests_response.asp\n",
        "print('cookies is ' + str(response.cookies) + '\\n')\n",
        "print('headers is ' + str(response.headers) + '\\n')\n",
        "print('response body is ' + str(response.text))"
      ],
      "execution_count": 6,
      "outputs": [
        {
          "output_type": "stream",
          "name": "stdout",
          "text": [
            "cookies is <RequestsCookieJar[]>\n",
            "\n",
            "headers is {'Connection': 'keep-alive', 'content-type': 'application/json', 'server': 'envoy', 'ratelimit-remaining': '4999', 'x-routing-service': 'routing-main--uswest2-6c64c7fb6d-6w6tp; site=public_api_v3', 'x-zipkin-id': 'b3ff76d3c280d9b1', 'ratelimit-resettime': '2022-02-18T00:00:00+00:00', 'x-b3-sampled': '0', 'ratelimit-dailylimit': '5000', 'x-cloudmap': 'routing_uswest2', 'content-encoding': 'gzip', 'x-proxied': '10-69-126-17-uswest2aprod', 'x-extlb': '10-69-126-17-uswest2aprod', 'cache-control': 'max-age=0, no-store, private, no-transform', 'Accept-Ranges': 'bytes', 'Date': 'Thu, 17 Feb 2022 06:39:24 GMT', 'Via': '1.1 varnish', 'X-Served-By': 'cache-lax10644-LGB', 'X-Cache': 'MISS', 'X-Cache-Hits': '0', 'Vary': 'Accept-Encoding', 'transfer-encoding': 'chunked'}\n",
            "\n",
            "response body is {\"businesses\": [{\"id\": \"cegA4jf16vEt7NCQ7cpu2w\", \"alias\": \"kind-fresh-meadows\", \"name\": \"Kin'd\", \"image_url\": \"https://s3-media2.fl.yelpcdn.com/bphoto/75GptlVgTc9HqZoyHdu8NQ/o.jpg\", \"is_closed\": false, \"url\": \"https://www.yelp.com/biz/kind-fresh-meadows?adjust_creative=Eoyi_YSkAfM5aeQla0x-3A&utm_campaign=yelp_api_v3&utm_medium=api_v3_business_search&utm_source=Eoyi_YSkAfM5aeQla0x-3A\", \"review_count\": 924, \"categories\": [{\"alias\": \"thai\", \"title\": \"Thai\"}], \"rating\": 4.5, \"coordinates\": {\"latitude\": 40.73031, \"longitude\": -73.77814}, \"transactions\": [\"pickup\", \"delivery\"], \"price\": \"$$\", \"location\": {\"address1\": \"192-03 Union Tpke\", \"address2\": \"\", \"address3\": null, \"city\": \"Fresh Meadows\", \"zip_code\": \"11366\", \"country\": \"US\", \"state\": \"NY\", \"display_address\": [\"192-03 Union Tpke\", \"Fresh Meadows, NY 11366\"]}, \"phone\": \"+17184680888\", \"display_phone\": \"(718) 468-0888\", \"distance\": 6933.974525491427}, {\"id\": \"xR2Yeb_Nh0MOAiUIaqaVOg\", \"alias\": \"tavern-157-flushing-2\", \"name\": \"Tavern 157\", \"image_url\": \"https://s3-media1.fl.yelpcdn.com/bphoto/DzgKsJaswv3HgvcZcOImOg/o.jpg\", \"is_closed\": false, \"url\": \"https://www.yelp.com/biz/tavern-157-flushing-2?adjust_creative=Eoyi_YSkAfM5aeQla0x-3A&utm_campaign=yelp_api_v3&utm_medium=api_v3_business_search&utm_source=Eoyi_YSkAfM5aeQla0x-3A\", \"review_count\": 466, \"categories\": [{\"alias\": \"wine_bars\", \"title\": \"Wine Bars\"}, {\"alias\": \"asianfusion\", \"title\": \"Asian Fusion\"}, {\"alias\": \"tapasmallplates\", \"title\": \"Tapas/Small Plates\"}], \"rating\": 4.5, \"coordinates\": {\"latitude\": 40.7634836392041, \"longitude\": -73.807817278102}, \"transactions\": [\"restaurant_reservation\", \"pickup\", \"delivery\"], \"price\": \"$$\", \"location\": {\"address1\": \"157-12 Northern Blvd\", \"address2\": \"\", \"address3\": \"\", \"city\": \"Flushing\", \"zip_code\": \"11354\", \"country\": \"US\", \"state\": \"NY\", \"display_address\": [\"157-12 Northern Blvd\", \"Flushing, NY 11354\"]}, \"phone\": \"+17188867488\", \"display_phone\": \"(718) 886-7488\", \"distance\": 2677.000862929867}, {\"id\": \"03RL_VcRGXuICl2R6Luu_Q\", \"alias\": \"the-waterfront-nyc-bronx\", \"name\": \"The Waterfront NYC\", \"image_url\": \"https://s3-media2.fl.yelpcdn.com/bphoto/zV8E_UsFpcPXpxetIvlfcQ/o.jpg\", \"is_closed\": false, \"url\": \"https://www.yelp.com/biz/the-waterfront-nyc-bronx?adjust_creative=Eoyi_YSkAfM5aeQla0x-3A&utm_campaign=yelp_api_v3&utm_medium=api_v3_business_search&utm_source=Eoyi_YSkAfM5aeQla0x-3A\", \"review_count\": 37, \"categories\": [{\"alias\": \"newamerican\", \"title\": \"American (New)\"}, {\"alias\": \"seafood\", \"title\": \"Seafood\"}, {\"alias\": \"breakfast_brunch\", \"title\": \"Breakfast & Brunch\"}], \"rating\": 4.0, \"coordinates\": {\"latitude\": 40.8112556, \"longitude\": -73.8352813}, \"transactions\": [\"delivery\"], \"location\": {\"address1\": \"500 Hutchinson River Pkwy\", \"address2\": \"\", \"address3\": \"Trump Golf Links\", \"city\": \"Bronx\", \"zip_code\": \"10465\", \"country\": \"US\", \"state\": \"NY\", \"display_address\": [\"500 Hutchinson River Pkwy\", \"Trump Golf Links\", \"Bronx, NY 10465\"]}, \"phone\": \"+17184141577\", \"display_phone\": \"(718) 414-1577\", \"distance\": 3232.9464557149495}, {\"id\": \"2f-qNpdVJl2h9L6SHYuICA\", \"alias\": \"havana-cafe-bronx\", \"name\": \"Havana Cafe\", \"image_url\": \"https://s3-media2.fl.yelpcdn.com/bphoto/6oza5fJjaE9i_-4xjlyyUQ/o.jpg\", \"is_closed\": false, \"url\": \"https://www.yelp.com/biz/havana-cafe-bronx?adjust_creative=Eoyi_YSkAfM5aeQla0x-3A&utm_campaign=yelp_api_v3&utm_medium=api_v3_business_search&utm_source=Eoyi_YSkAfM5aeQla0x-3A\", \"review_count\": 888, \"categories\": [{\"alias\": \"cuban\", \"title\": \"Cuban\"}, {\"alias\": \"latin\", \"title\": \"Latin American\"}], \"rating\": 4.0, \"coordinates\": {\"latitude\": 40.8379, \"longitude\": -73.83437}, \"transactions\": [\"pickup\", \"delivery\"], \"price\": \"$$\", \"location\": {\"address1\": \"3151 E Tremont Ave\", \"address2\": \"\", \"address3\": \"\", \"city\": \"Bronx\", \"zip_code\": \"10461\", \"country\": \"US\", \"state\": \"NY\", \"display_address\": [\"3151 E Tremont Ave\", \"Bronx, NY 10461\"]}, \"phone\": \"+17185181800\", \"display_phone\": \"(718) 518-1800\", \"distance\": 5934.899328565554}], \"total\": 7800, \"region\": {\"center\": {\"longitude\": -73.81113052368164, \"latitude\": 40.78742741252944}}}\n"
          ]
        }
      ]
    },
    {
      "cell_type": "code",
      "metadata": {
        "scrolled": true,
        "id": "jhrmGHhDLzYt",
        "colab": {
          "base_uri": "https://localhost:8080/"
        },
        "outputId": "c4137a08-939c-41bf-90b9-b74cecaeccc0"
      },
      "source": [
        "#response.json() can automatically parse json text into python dict\n",
        "#or you can also use json package to parse the text\n",
        "response.json()"
      ],
      "execution_count": 7,
      "outputs": [
        {
          "output_type": "execute_result",
          "data": {
            "text/plain": [
              "{'businesses': [{'alias': 'kind-fresh-meadows',\n",
              "   'categories': [{'alias': 'thai', 'title': 'Thai'}],\n",
              "   'coordinates': {'latitude': 40.73031, 'longitude': -73.77814},\n",
              "   'display_phone': '(718) 468-0888',\n",
              "   'distance': 6933.974525491427,\n",
              "   'id': 'cegA4jf16vEt7NCQ7cpu2w',\n",
              "   'image_url': 'https://s3-media2.fl.yelpcdn.com/bphoto/75GptlVgTc9HqZoyHdu8NQ/o.jpg',\n",
              "   'is_closed': False,\n",
              "   'location': {'address1': '192-03 Union Tpke',\n",
              "    'address2': '',\n",
              "    'address3': None,\n",
              "    'city': 'Fresh Meadows',\n",
              "    'country': 'US',\n",
              "    'display_address': ['192-03 Union Tpke', 'Fresh Meadows, NY 11366'],\n",
              "    'state': 'NY',\n",
              "    'zip_code': '11366'},\n",
              "   'name': \"Kin'd\",\n",
              "   'phone': '+17184680888',\n",
              "   'price': '$$',\n",
              "   'rating': 4.5,\n",
              "   'review_count': 924,\n",
              "   'transactions': ['pickup', 'delivery'],\n",
              "   'url': 'https://www.yelp.com/biz/kind-fresh-meadows?adjust_creative=Eoyi_YSkAfM5aeQla0x-3A&utm_campaign=yelp_api_v3&utm_medium=api_v3_business_search&utm_source=Eoyi_YSkAfM5aeQla0x-3A'},\n",
              "  {'alias': 'tavern-157-flushing-2',\n",
              "   'categories': [{'alias': 'wine_bars', 'title': 'Wine Bars'},\n",
              "    {'alias': 'asianfusion', 'title': 'Asian Fusion'},\n",
              "    {'alias': 'tapasmallplates', 'title': 'Tapas/Small Plates'}],\n",
              "   'coordinates': {'latitude': 40.7634836392041,\n",
              "    'longitude': -73.807817278102},\n",
              "   'display_phone': '(718) 886-7488',\n",
              "   'distance': 2677.000862929867,\n",
              "   'id': 'xR2Yeb_Nh0MOAiUIaqaVOg',\n",
              "   'image_url': 'https://s3-media1.fl.yelpcdn.com/bphoto/DzgKsJaswv3HgvcZcOImOg/o.jpg',\n",
              "   'is_closed': False,\n",
              "   'location': {'address1': '157-12 Northern Blvd',\n",
              "    'address2': '',\n",
              "    'address3': '',\n",
              "    'city': 'Flushing',\n",
              "    'country': 'US',\n",
              "    'display_address': ['157-12 Northern Blvd', 'Flushing, NY 11354'],\n",
              "    'state': 'NY',\n",
              "    'zip_code': '11354'},\n",
              "   'name': 'Tavern 157',\n",
              "   'phone': '+17188867488',\n",
              "   'price': '$$',\n",
              "   'rating': 4.5,\n",
              "   'review_count': 466,\n",
              "   'transactions': ['restaurant_reservation', 'pickup', 'delivery'],\n",
              "   'url': 'https://www.yelp.com/biz/tavern-157-flushing-2?adjust_creative=Eoyi_YSkAfM5aeQla0x-3A&utm_campaign=yelp_api_v3&utm_medium=api_v3_business_search&utm_source=Eoyi_YSkAfM5aeQla0x-3A'},\n",
              "  {'alias': 'the-waterfront-nyc-bronx',\n",
              "   'categories': [{'alias': 'newamerican', 'title': 'American (New)'},\n",
              "    {'alias': 'seafood', 'title': 'Seafood'},\n",
              "    {'alias': 'breakfast_brunch', 'title': 'Breakfast & Brunch'}],\n",
              "   'coordinates': {'latitude': 40.8112556, 'longitude': -73.8352813},\n",
              "   'display_phone': '(718) 414-1577',\n",
              "   'distance': 3232.9464557149495,\n",
              "   'id': '03RL_VcRGXuICl2R6Luu_Q',\n",
              "   'image_url': 'https://s3-media2.fl.yelpcdn.com/bphoto/zV8E_UsFpcPXpxetIvlfcQ/o.jpg',\n",
              "   'is_closed': False,\n",
              "   'location': {'address1': '500 Hutchinson River Pkwy',\n",
              "    'address2': '',\n",
              "    'address3': 'Trump Golf Links',\n",
              "    'city': 'Bronx',\n",
              "    'country': 'US',\n",
              "    'display_address': ['500 Hutchinson River Pkwy',\n",
              "     'Trump Golf Links',\n",
              "     'Bronx, NY 10465'],\n",
              "    'state': 'NY',\n",
              "    'zip_code': '10465'},\n",
              "   'name': 'The Waterfront NYC',\n",
              "   'phone': '+17184141577',\n",
              "   'rating': 4.0,\n",
              "   'review_count': 37,\n",
              "   'transactions': ['delivery'],\n",
              "   'url': 'https://www.yelp.com/biz/the-waterfront-nyc-bronx?adjust_creative=Eoyi_YSkAfM5aeQla0x-3A&utm_campaign=yelp_api_v3&utm_medium=api_v3_business_search&utm_source=Eoyi_YSkAfM5aeQla0x-3A'},\n",
              "  {'alias': 'havana-cafe-bronx',\n",
              "   'categories': [{'alias': 'cuban', 'title': 'Cuban'},\n",
              "    {'alias': 'latin', 'title': 'Latin American'}],\n",
              "   'coordinates': {'latitude': 40.8379, 'longitude': -73.83437},\n",
              "   'display_phone': '(718) 518-1800',\n",
              "   'distance': 5934.899328565554,\n",
              "   'id': '2f-qNpdVJl2h9L6SHYuICA',\n",
              "   'image_url': 'https://s3-media2.fl.yelpcdn.com/bphoto/6oza5fJjaE9i_-4xjlyyUQ/o.jpg',\n",
              "   'is_closed': False,\n",
              "   'location': {'address1': '3151 E Tremont Ave',\n",
              "    'address2': '',\n",
              "    'address3': '',\n",
              "    'city': 'Bronx',\n",
              "    'country': 'US',\n",
              "    'display_address': ['3151 E Tremont Ave', 'Bronx, NY 10461'],\n",
              "    'state': 'NY',\n",
              "    'zip_code': '10461'},\n",
              "   'name': 'Havana Cafe',\n",
              "   'phone': '+17185181800',\n",
              "   'price': '$$',\n",
              "   'rating': 4.0,\n",
              "   'review_count': 888,\n",
              "   'transactions': ['pickup', 'delivery'],\n",
              "   'url': 'https://www.yelp.com/biz/havana-cafe-bronx?adjust_creative=Eoyi_YSkAfM5aeQla0x-3A&utm_campaign=yelp_api_v3&utm_medium=api_v3_business_search&utm_source=Eoyi_YSkAfM5aeQla0x-3A'}],\n",
              " 'region': {'center': {'latitude': 40.78742741252944,\n",
              "   'longitude': -73.81113052368164}},\n",
              " 'total': 7800}"
            ]
          },
          "metadata": {},
          "execution_count": 7
        }
      ]
    },
    {
      "cell_type": "code",
      "metadata": {
        "id": "fCSrtBGoLzYx",
        "colab": {
          "base_uri": "https://localhost:8080/"
        },
        "outputId": "3bcad084-2a78-480c-ac01-e18fff5b7ceb"
      },
      "source": [
        "type(response.json())"
      ],
      "execution_count": 8,
      "outputs": [
        {
          "output_type": "execute_result",
          "data": {
            "text/plain": [
              "dict"
            ]
          },
          "metadata": {},
          "execution_count": 8
        }
      ]
    },
    {
      "cell_type": "code",
      "metadata": {
        "id": "BmRkalHxLzY0",
        "colab": {
          "base_uri": "https://localhost:8080/",
          "height": 535
        },
        "outputId": "4be8191e-781f-4325-b181-67f90e8a9ab9"
      },
      "source": [
        "#let's take a look at what information you can get\n",
        "print(response.json().keys())\n",
        "#And you can easily load it into a dataframe\n",
        "import pandas as pd\n",
        "businesses = response.json()['businesses']\n",
        "df = pd.DataFrame(businesses)\n",
        "df.head()"
      ],
      "execution_count": 9,
      "outputs": [
        {
          "output_type": "stream",
          "name": "stdout",
          "text": [
            "dict_keys(['businesses', 'total', 'region'])\n"
          ]
        },
        {
          "output_type": "execute_result",
          "data": {
            "text/html": [
              "\n",
              "  <div id=\"df-2ca3920c-55f3-4c79-a0fe-1b85c04db572\">\n",
              "    <div class=\"colab-df-container\">\n",
              "      <div>\n",
              "<style scoped>\n",
              "    .dataframe tbody tr th:only-of-type {\n",
              "        vertical-align: middle;\n",
              "    }\n",
              "\n",
              "    .dataframe tbody tr th {\n",
              "        vertical-align: top;\n",
              "    }\n",
              "\n",
              "    .dataframe thead th {\n",
              "        text-align: right;\n",
              "    }\n",
              "</style>\n",
              "<table border=\"1\" class=\"dataframe\">\n",
              "  <thead>\n",
              "    <tr style=\"text-align: right;\">\n",
              "      <th></th>\n",
              "      <th>id</th>\n",
              "      <th>alias</th>\n",
              "      <th>name</th>\n",
              "      <th>image_url</th>\n",
              "      <th>is_closed</th>\n",
              "      <th>url</th>\n",
              "      <th>review_count</th>\n",
              "      <th>categories</th>\n",
              "      <th>rating</th>\n",
              "      <th>coordinates</th>\n",
              "      <th>transactions</th>\n",
              "      <th>price</th>\n",
              "      <th>location</th>\n",
              "      <th>phone</th>\n",
              "      <th>display_phone</th>\n",
              "      <th>distance</th>\n",
              "    </tr>\n",
              "  </thead>\n",
              "  <tbody>\n",
              "    <tr>\n",
              "      <th>0</th>\n",
              "      <td>cegA4jf16vEt7NCQ7cpu2w</td>\n",
              "      <td>kind-fresh-meadows</td>\n",
              "      <td>Kin'd</td>\n",
              "      <td>https://s3-media2.fl.yelpcdn.com/bphoto/75Gptl...</td>\n",
              "      <td>False</td>\n",
              "      <td>https://www.yelp.com/biz/kind-fresh-meadows?ad...</td>\n",
              "      <td>924</td>\n",
              "      <td>[{'alias': 'thai', 'title': 'Thai'}]</td>\n",
              "      <td>4.5</td>\n",
              "      <td>{'latitude': 40.73031, 'longitude': -73.77814}</td>\n",
              "      <td>[pickup, delivery]</td>\n",
              "      <td>$$</td>\n",
              "      <td>{'address1': '192-03 Union Tpke', 'address2': ...</td>\n",
              "      <td>+17184680888</td>\n",
              "      <td>(718) 468-0888</td>\n",
              "      <td>6933.974525</td>\n",
              "    </tr>\n",
              "    <tr>\n",
              "      <th>1</th>\n",
              "      <td>xR2Yeb_Nh0MOAiUIaqaVOg</td>\n",
              "      <td>tavern-157-flushing-2</td>\n",
              "      <td>Tavern 157</td>\n",
              "      <td>https://s3-media1.fl.yelpcdn.com/bphoto/DzgKsJ...</td>\n",
              "      <td>False</td>\n",
              "      <td>https://www.yelp.com/biz/tavern-157-flushing-2...</td>\n",
              "      <td>466</td>\n",
              "      <td>[{'alias': 'wine_bars', 'title': 'Wine Bars'},...</td>\n",
              "      <td>4.5</td>\n",
              "      <td>{'latitude': 40.7634836392041, 'longitude': -7...</td>\n",
              "      <td>[restaurant_reservation, pickup, delivery]</td>\n",
              "      <td>$$</td>\n",
              "      <td>{'address1': '157-12 Northern Blvd', 'address2...</td>\n",
              "      <td>+17188867488</td>\n",
              "      <td>(718) 886-7488</td>\n",
              "      <td>2677.000863</td>\n",
              "    </tr>\n",
              "    <tr>\n",
              "      <th>2</th>\n",
              "      <td>03RL_VcRGXuICl2R6Luu_Q</td>\n",
              "      <td>the-waterfront-nyc-bronx</td>\n",
              "      <td>The Waterfront NYC</td>\n",
              "      <td>https://s3-media2.fl.yelpcdn.com/bphoto/zV8E_U...</td>\n",
              "      <td>False</td>\n",
              "      <td>https://www.yelp.com/biz/the-waterfront-nyc-br...</td>\n",
              "      <td>37</td>\n",
              "      <td>[{'alias': 'newamerican', 'title': 'American (...</td>\n",
              "      <td>4.0</td>\n",
              "      <td>{'latitude': 40.8112556, 'longitude': -73.8352...</td>\n",
              "      <td>[delivery]</td>\n",
              "      <td>NaN</td>\n",
              "      <td>{'address1': '500 Hutchinson River Pkwy', 'add...</td>\n",
              "      <td>+17184141577</td>\n",
              "      <td>(718) 414-1577</td>\n",
              "      <td>3232.946456</td>\n",
              "    </tr>\n",
              "    <tr>\n",
              "      <th>3</th>\n",
              "      <td>2f-qNpdVJl2h9L6SHYuICA</td>\n",
              "      <td>havana-cafe-bronx</td>\n",
              "      <td>Havana Cafe</td>\n",
              "      <td>https://s3-media2.fl.yelpcdn.com/bphoto/6oza5f...</td>\n",
              "      <td>False</td>\n",
              "      <td>https://www.yelp.com/biz/havana-cafe-bronx?adj...</td>\n",
              "      <td>888</td>\n",
              "      <td>[{'alias': 'cuban', 'title': 'Cuban'}, {'alias...</td>\n",
              "      <td>4.0</td>\n",
              "      <td>{'latitude': 40.8379, 'longitude': -73.83437}</td>\n",
              "      <td>[pickup, delivery]</td>\n",
              "      <td>$$</td>\n",
              "      <td>{'address1': '3151 E Tremont Ave', 'address2':...</td>\n",
              "      <td>+17185181800</td>\n",
              "      <td>(718) 518-1800</td>\n",
              "      <td>5934.899329</td>\n",
              "    </tr>\n",
              "  </tbody>\n",
              "</table>\n",
              "</div>\n",
              "      <button class=\"colab-df-convert\" onclick=\"convertToInteractive('df-2ca3920c-55f3-4c79-a0fe-1b85c04db572')\"\n",
              "              title=\"Convert this dataframe to an interactive table.\"\n",
              "              style=\"display:none;\">\n",
              "        \n",
              "  <svg xmlns=\"http://www.w3.org/2000/svg\" height=\"24px\"viewBox=\"0 0 24 24\"\n",
              "       width=\"24px\">\n",
              "    <path d=\"M0 0h24v24H0V0z\" fill=\"none\"/>\n",
              "    <path d=\"M18.56 5.44l.94 2.06.94-2.06 2.06-.94-2.06-.94-.94-2.06-.94 2.06-2.06.94zm-11 1L8.5 8.5l.94-2.06 2.06-.94-2.06-.94L8.5 2.5l-.94 2.06-2.06.94zm10 10l.94 2.06.94-2.06 2.06-.94-2.06-.94-.94-2.06-.94 2.06-2.06.94z\"/><path d=\"M17.41 7.96l-1.37-1.37c-.4-.4-.92-.59-1.43-.59-.52 0-1.04.2-1.43.59L10.3 9.45l-7.72 7.72c-.78.78-.78 2.05 0 2.83L4 21.41c.39.39.9.59 1.41.59.51 0 1.02-.2 1.41-.59l7.78-7.78 2.81-2.81c.8-.78.8-2.07 0-2.86zM5.41 20L4 18.59l7.72-7.72 1.47 1.35L5.41 20z\"/>\n",
              "  </svg>\n",
              "      </button>\n",
              "      \n",
              "  <style>\n",
              "    .colab-df-container {\n",
              "      display:flex;\n",
              "      flex-wrap:wrap;\n",
              "      gap: 12px;\n",
              "    }\n",
              "\n",
              "    .colab-df-convert {\n",
              "      background-color: #E8F0FE;\n",
              "      border: none;\n",
              "      border-radius: 50%;\n",
              "      cursor: pointer;\n",
              "      display: none;\n",
              "      fill: #1967D2;\n",
              "      height: 32px;\n",
              "      padding: 0 0 0 0;\n",
              "      width: 32px;\n",
              "    }\n",
              "\n",
              "    .colab-df-convert:hover {\n",
              "      background-color: #E2EBFA;\n",
              "      box-shadow: 0px 1px 2px rgba(60, 64, 67, 0.3), 0px 1px 3px 1px rgba(60, 64, 67, 0.15);\n",
              "      fill: #174EA6;\n",
              "    }\n",
              "\n",
              "    [theme=dark] .colab-df-convert {\n",
              "      background-color: #3B4455;\n",
              "      fill: #D2E3FC;\n",
              "    }\n",
              "\n",
              "    [theme=dark] .colab-df-convert:hover {\n",
              "      background-color: #434B5C;\n",
              "      box-shadow: 0px 1px 3px 1px rgba(0, 0, 0, 0.15);\n",
              "      filter: drop-shadow(0px 1px 2px rgba(0, 0, 0, 0.3));\n",
              "      fill: #FFFFFF;\n",
              "    }\n",
              "  </style>\n",
              "\n",
              "      <script>\n",
              "        const buttonEl =\n",
              "          document.querySelector('#df-2ca3920c-55f3-4c79-a0fe-1b85c04db572 button.colab-df-convert');\n",
              "        buttonEl.style.display =\n",
              "          google.colab.kernel.accessAllowed ? 'block' : 'none';\n",
              "\n",
              "        async function convertToInteractive(key) {\n",
              "          const element = document.querySelector('#df-2ca3920c-55f3-4c79-a0fe-1b85c04db572');\n",
              "          const dataTable =\n",
              "            await google.colab.kernel.invokeFunction('convertToInteractive',\n",
              "                                                     [key], {});\n",
              "          if (!dataTable) return;\n",
              "\n",
              "          const docLinkHtml = 'Like what you see? Visit the ' +\n",
              "            '<a target=\"_blank\" href=https://colab.research.google.com/notebooks/data_table.ipynb>data table notebook</a>'\n",
              "            + ' to learn more about interactive tables.';\n",
              "          element.innerHTML = '';\n",
              "          dataTable['output_type'] = 'display_data';\n",
              "          await google.colab.output.renderOutput(dataTable, element);\n",
              "          const docLink = document.createElement('div');\n",
              "          docLink.innerHTML = docLinkHtml;\n",
              "          element.appendChild(docLink);\n",
              "        }\n",
              "      </script>\n",
              "    </div>\n",
              "  </div>\n",
              "  "
            ],
            "text/plain": [
              "                       id  ...     distance\n",
              "0  cegA4jf16vEt7NCQ7cpu2w  ...  6933.974525\n",
              "1  xR2Yeb_Nh0MOAiUIaqaVOg  ...  2677.000863\n",
              "2  03RL_VcRGXuICl2R6Luu_Q  ...  3232.946456\n",
              "3  2f-qNpdVJl2h9L6SHYuICA  ...  5934.899329\n",
              "\n",
              "[4 rows x 16 columns]"
            ]
          },
          "metadata": {},
          "execution_count": 9
        }
      ]
    },
    {
      "cell_type": "code",
      "source": [
        "file = \"sample.csv\"\n",
        "df.to_csv(file)"
      ],
      "metadata": {
        "id": "_uVeF_plcEvj"
      },
      "execution_count": 12,
      "outputs": []
    },
    {
      "cell_type": "markdown",
      "metadata": {
        "id": "-kLaPPKuLzY2"
      },
      "source": [
        "## Sometimes you need to send data to server, let's take a look at json\n",
        "\n",
        "JSON stands for JavaScript Object Notation, it's a string representing serielized object/data, contains only data and can easily parse between all kinds of popular data format, e.g. dict, dataframe, csv file, and can be used across all languages.\n",
        "\n",
        "You will encounter JSON objects and JSON Arrays. e.g.\n",
        "{\n",
        "\"name\":\"John\",\n",
        "\"age\":30,\n",
        "\"cars\":[ \"Ford\", \"BMW\", \"Fiat\" ]\n",
        "}\n",
        "\n",
        "Conversion table between JSON and Python types:\n",
        "\n",
        "| JSON | Python |\n",
        "| --- | --- |\n",
        "| object | dict |\n",
        "| array | list |\n",
        "| string | str |\n",
        "| number(int/real) | int/float |\n",
        "| true/false | True/False |"
      ]
    },
    {
      "cell_type": "code",
      "metadata": {
        "id": "1HHHklKxLzY3",
        "colab": {
          "base_uri": "https://localhost:8080/"
        },
        "outputId": "f638f5a9-d053-456f-be0e-9e995c183ce7"
      },
      "source": [
        "import json\n",
        "\n",
        "cars = {\n",
        "    \"name\":\"John\",\n",
        "    \"age\":\"30\",\n",
        "    \"cars\":[\"Ford\",\"BMW\",\"Fiat\"]\n",
        "}\n",
        "\n",
        "print('type of cars is ' + str(type(cars)))\n",
        "\n",
        "cars_json = json.dumps(cars)\n",
        "print('type of cars_json is ' + str(type(cars_json)))\n",
        "\n",
        "cars_from_json = json.loads(cars_json)\n",
        "print('type of cars_from_json is ' + str(type(cars_from_json)))"
      ],
      "execution_count": 10,
      "outputs": [
        {
          "output_type": "stream",
          "name": "stdout",
          "text": [
            "type of cars is <class 'dict'>\n",
            "type of cars_json is <class 'str'>\n",
            "type of cars_from_json is <class 'dict'>\n"
          ]
        }
      ]
    },
    {
      "cell_type": "code",
      "metadata": {
        "id": "He6pys0oLzY6",
        "colab": {
          "base_uri": "https://localhost:8080/",
          "height": 144
        },
        "outputId": "fcb5e604-a280-4940-8a9f-4442e06eb3e6"
      },
      "source": [
        "# you can easily load json string into dataframe also\n",
        "\n",
        "df_car = pd.read_json(cars_json, orient='columns')\n",
        "df_car.head()"
      ],
      "execution_count": 11,
      "outputs": [
        {
          "output_type": "execute_result",
          "data": {
            "text/html": [
              "\n",
              "  <div id=\"df-14978da8-fb32-440e-b455-2686538ffd0b\">\n",
              "    <div class=\"colab-df-container\">\n",
              "      <div>\n",
              "<style scoped>\n",
              "    .dataframe tbody tr th:only-of-type {\n",
              "        vertical-align: middle;\n",
              "    }\n",
              "\n",
              "    .dataframe tbody tr th {\n",
              "        vertical-align: top;\n",
              "    }\n",
              "\n",
              "    .dataframe thead th {\n",
              "        text-align: right;\n",
              "    }\n",
              "</style>\n",
              "<table border=\"1\" class=\"dataframe\">\n",
              "  <thead>\n",
              "    <tr style=\"text-align: right;\">\n",
              "      <th></th>\n",
              "      <th>name</th>\n",
              "      <th>age</th>\n",
              "      <th>cars</th>\n",
              "    </tr>\n",
              "  </thead>\n",
              "  <tbody>\n",
              "    <tr>\n",
              "      <th>0</th>\n",
              "      <td>John</td>\n",
              "      <td>30</td>\n",
              "      <td>Ford</td>\n",
              "    </tr>\n",
              "    <tr>\n",
              "      <th>1</th>\n",
              "      <td>John</td>\n",
              "      <td>30</td>\n",
              "      <td>BMW</td>\n",
              "    </tr>\n",
              "    <tr>\n",
              "      <th>2</th>\n",
              "      <td>John</td>\n",
              "      <td>30</td>\n",
              "      <td>Fiat</td>\n",
              "    </tr>\n",
              "  </tbody>\n",
              "</table>\n",
              "</div>\n",
              "      <button class=\"colab-df-convert\" onclick=\"convertToInteractive('df-14978da8-fb32-440e-b455-2686538ffd0b')\"\n",
              "              title=\"Convert this dataframe to an interactive table.\"\n",
              "              style=\"display:none;\">\n",
              "        \n",
              "  <svg xmlns=\"http://www.w3.org/2000/svg\" height=\"24px\"viewBox=\"0 0 24 24\"\n",
              "       width=\"24px\">\n",
              "    <path d=\"M0 0h24v24H0V0z\" fill=\"none\"/>\n",
              "    <path d=\"M18.56 5.44l.94 2.06.94-2.06 2.06-.94-2.06-.94-.94-2.06-.94 2.06-2.06.94zm-11 1L8.5 8.5l.94-2.06 2.06-.94-2.06-.94L8.5 2.5l-.94 2.06-2.06.94zm10 10l.94 2.06.94-2.06 2.06-.94-2.06-.94-.94-2.06-.94 2.06-2.06.94z\"/><path d=\"M17.41 7.96l-1.37-1.37c-.4-.4-.92-.59-1.43-.59-.52 0-1.04.2-1.43.59L10.3 9.45l-7.72 7.72c-.78.78-.78 2.05 0 2.83L4 21.41c.39.39.9.59 1.41.59.51 0 1.02-.2 1.41-.59l7.78-7.78 2.81-2.81c.8-.78.8-2.07 0-2.86zM5.41 20L4 18.59l7.72-7.72 1.47 1.35L5.41 20z\"/>\n",
              "  </svg>\n",
              "      </button>\n",
              "      \n",
              "  <style>\n",
              "    .colab-df-container {\n",
              "      display:flex;\n",
              "      flex-wrap:wrap;\n",
              "      gap: 12px;\n",
              "    }\n",
              "\n",
              "    .colab-df-convert {\n",
              "      background-color: #E8F0FE;\n",
              "      border: none;\n",
              "      border-radius: 50%;\n",
              "      cursor: pointer;\n",
              "      display: none;\n",
              "      fill: #1967D2;\n",
              "      height: 32px;\n",
              "      padding: 0 0 0 0;\n",
              "      width: 32px;\n",
              "    }\n",
              "\n",
              "    .colab-df-convert:hover {\n",
              "      background-color: #E2EBFA;\n",
              "      box-shadow: 0px 1px 2px rgba(60, 64, 67, 0.3), 0px 1px 3px 1px rgba(60, 64, 67, 0.15);\n",
              "      fill: #174EA6;\n",
              "    }\n",
              "\n",
              "    [theme=dark] .colab-df-convert {\n",
              "      background-color: #3B4455;\n",
              "      fill: #D2E3FC;\n",
              "    }\n",
              "\n",
              "    [theme=dark] .colab-df-convert:hover {\n",
              "      background-color: #434B5C;\n",
              "      box-shadow: 0px 1px 3px 1px rgba(0, 0, 0, 0.15);\n",
              "      filter: drop-shadow(0px 1px 2px rgba(0, 0, 0, 0.3));\n",
              "      fill: #FFFFFF;\n",
              "    }\n",
              "  </style>\n",
              "\n",
              "      <script>\n",
              "        const buttonEl =\n",
              "          document.querySelector('#df-14978da8-fb32-440e-b455-2686538ffd0b button.colab-df-convert');\n",
              "        buttonEl.style.display =\n",
              "          google.colab.kernel.accessAllowed ? 'block' : 'none';\n",
              "\n",
              "        async function convertToInteractive(key) {\n",
              "          const element = document.querySelector('#df-14978da8-fb32-440e-b455-2686538ffd0b');\n",
              "          const dataTable =\n",
              "            await google.colab.kernel.invokeFunction('convertToInteractive',\n",
              "                                                     [key], {});\n",
              "          if (!dataTable) return;\n",
              "\n",
              "          const docLinkHtml = 'Like what you see? Visit the ' +\n",
              "            '<a target=\"_blank\" href=https://colab.research.google.com/notebooks/data_table.ipynb>data table notebook</a>'\n",
              "            + ' to learn more about interactive tables.';\n",
              "          element.innerHTML = '';\n",
              "          dataTable['output_type'] = 'display_data';\n",
              "          await google.colab.output.renderOutput(dataTable, element);\n",
              "          const docLink = document.createElement('div');\n",
              "          docLink.innerHTML = docLinkHtml;\n",
              "          element.appendChild(docLink);\n",
              "        }\n",
              "      </script>\n",
              "    </div>\n",
              "  </div>\n",
              "  "
            ],
            "text/plain": [
              "   name  age  cars\n",
              "0  John   30  Ford\n",
              "1  John   30   BMW\n",
              "2  John   30  Fiat"
            ]
          },
          "metadata": {},
          "execution_count": 11
        }
      ]
    },
    {
      "cell_type": "code",
      "metadata": {
        "id": "wMDFvpQ86Nc6"
      },
      "source": [
        "## Homework: use github api to create a new repo for yourself"
      ],
      "execution_count": null,
      "outputs": []
    },
    {
      "cell_type": "code",
      "metadata": {
        "id": "Lg8r05vdBCND"
      },
      "source": [
        ""
      ],
      "execution_count": null,
      "outputs": []
    }
  ]
}